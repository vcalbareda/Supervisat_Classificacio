{
 "cells": [
  {
   "cell_type": "markdown",
   "id": "de0a6821",
   "metadata": {},
   "source": [
    "Descripció\n",
    "Anem a practicar i a familiaritzar-nos amb algoritmes de classificació."
   ]
  },
  {
   "cell_type": "markdown",
   "id": "028b445f",
   "metadata": {},
   "source": [
    "## **Nivell 1**"
   ]
  },
  {
   "cell_type": "code",
   "execution_count": 109,
   "id": "6f0cca4a",
   "metadata": {},
   "outputs": [],
   "source": [
    "import pandas as pd\n",
    "import xgboost as xgb\n",
    "import numpy as np\n",
    "\n",
    "from sklearn.tree import DecisionTreeClassifier\n",
    "from sklearn.model_selection import train_test_split\n",
    "from sklearn.neighbors import KNeighborsClassifier\n",
    "from sklearn import svm\n",
    "from sklearn import metrics\n",
    "from sklearn.metrics import mean_squared_error\n",
    "import matplotlib.pyplot as plt"
   ]
  },
  {
   "cell_type": "code",
   "execution_count": 110,
   "id": "79f6cc94",
   "metadata": {},
   "outputs": [],
   "source": [
    "# Importar el Data set\n",
    "raw_df = pd.read_csv('DelayedFlights.csv')"
   ]
  },
  {
   "cell_type": "code",
   "execution_count": 111,
   "id": "6ac251fd",
   "metadata": {
    "scrolled": true
   },
   "outputs": [
    {
     "data": {
      "text/html": [
       "<div>\n",
       "<style scoped>\n",
       "    .dataframe tbody tr th:only-of-type {\n",
       "        vertical-align: middle;\n",
       "    }\n",
       "\n",
       "    .dataframe tbody tr th {\n",
       "        vertical-align: top;\n",
       "    }\n",
       "\n",
       "    .dataframe thead th {\n",
       "        text-align: right;\n",
       "    }\n",
       "</style>\n",
       "<table border=\"1\" class=\"dataframe\">\n",
       "  <thead>\n",
       "    <tr style=\"text-align: right;\">\n",
       "      <th></th>\n",
       "      <th>Unnamed: 0</th>\n",
       "      <th>Year</th>\n",
       "      <th>Month</th>\n",
       "      <th>DayofMonth</th>\n",
       "      <th>DayOfWeek</th>\n",
       "      <th>DepTime</th>\n",
       "      <th>CRSDepTime</th>\n",
       "      <th>ArrTime</th>\n",
       "      <th>CRSArrTime</th>\n",
       "      <th>UniqueCarrier</th>\n",
       "      <th>...</th>\n",
       "      <th>TaxiIn</th>\n",
       "      <th>TaxiOut</th>\n",
       "      <th>Cancelled</th>\n",
       "      <th>CancellationCode</th>\n",
       "      <th>Diverted</th>\n",
       "      <th>CarrierDelay</th>\n",
       "      <th>WeatherDelay</th>\n",
       "      <th>NASDelay</th>\n",
       "      <th>SecurityDelay</th>\n",
       "      <th>LateAircraftDelay</th>\n",
       "    </tr>\n",
       "  </thead>\n",
       "  <tbody>\n",
       "    <tr>\n",
       "      <th>0</th>\n",
       "      <td>0</td>\n",
       "      <td>2008</td>\n",
       "      <td>1</td>\n",
       "      <td>3</td>\n",
       "      <td>4</td>\n",
       "      <td>2003.0</td>\n",
       "      <td>1955</td>\n",
       "      <td>2211.0</td>\n",
       "      <td>2225</td>\n",
       "      <td>WN</td>\n",
       "      <td>...</td>\n",
       "      <td>4.0</td>\n",
       "      <td>8.0</td>\n",
       "      <td>0</td>\n",
       "      <td>N</td>\n",
       "      <td>0</td>\n",
       "      <td>NaN</td>\n",
       "      <td>NaN</td>\n",
       "      <td>NaN</td>\n",
       "      <td>NaN</td>\n",
       "      <td>NaN</td>\n",
       "    </tr>\n",
       "    <tr>\n",
       "      <th>1</th>\n",
       "      <td>1</td>\n",
       "      <td>2008</td>\n",
       "      <td>1</td>\n",
       "      <td>3</td>\n",
       "      <td>4</td>\n",
       "      <td>754.0</td>\n",
       "      <td>735</td>\n",
       "      <td>1002.0</td>\n",
       "      <td>1000</td>\n",
       "      <td>WN</td>\n",
       "      <td>...</td>\n",
       "      <td>5.0</td>\n",
       "      <td>10.0</td>\n",
       "      <td>0</td>\n",
       "      <td>N</td>\n",
       "      <td>0</td>\n",
       "      <td>NaN</td>\n",
       "      <td>NaN</td>\n",
       "      <td>NaN</td>\n",
       "      <td>NaN</td>\n",
       "      <td>NaN</td>\n",
       "    </tr>\n",
       "    <tr>\n",
       "      <th>2</th>\n",
       "      <td>2</td>\n",
       "      <td>2008</td>\n",
       "      <td>1</td>\n",
       "      <td>3</td>\n",
       "      <td>4</td>\n",
       "      <td>628.0</td>\n",
       "      <td>620</td>\n",
       "      <td>804.0</td>\n",
       "      <td>750</td>\n",
       "      <td>WN</td>\n",
       "      <td>...</td>\n",
       "      <td>3.0</td>\n",
       "      <td>17.0</td>\n",
       "      <td>0</td>\n",
       "      <td>N</td>\n",
       "      <td>0</td>\n",
       "      <td>NaN</td>\n",
       "      <td>NaN</td>\n",
       "      <td>NaN</td>\n",
       "      <td>NaN</td>\n",
       "      <td>NaN</td>\n",
       "    </tr>\n",
       "    <tr>\n",
       "      <th>3</th>\n",
       "      <td>4</td>\n",
       "      <td>2008</td>\n",
       "      <td>1</td>\n",
       "      <td>3</td>\n",
       "      <td>4</td>\n",
       "      <td>1829.0</td>\n",
       "      <td>1755</td>\n",
       "      <td>1959.0</td>\n",
       "      <td>1925</td>\n",
       "      <td>WN</td>\n",
       "      <td>...</td>\n",
       "      <td>3.0</td>\n",
       "      <td>10.0</td>\n",
       "      <td>0</td>\n",
       "      <td>N</td>\n",
       "      <td>0</td>\n",
       "      <td>2.0</td>\n",
       "      <td>0.0</td>\n",
       "      <td>0.0</td>\n",
       "      <td>0.0</td>\n",
       "      <td>32.0</td>\n",
       "    </tr>\n",
       "    <tr>\n",
       "      <th>4</th>\n",
       "      <td>5</td>\n",
       "      <td>2008</td>\n",
       "      <td>1</td>\n",
       "      <td>3</td>\n",
       "      <td>4</td>\n",
       "      <td>1940.0</td>\n",
       "      <td>1915</td>\n",
       "      <td>2121.0</td>\n",
       "      <td>2110</td>\n",
       "      <td>WN</td>\n",
       "      <td>...</td>\n",
       "      <td>4.0</td>\n",
       "      <td>10.0</td>\n",
       "      <td>0</td>\n",
       "      <td>N</td>\n",
       "      <td>0</td>\n",
       "      <td>NaN</td>\n",
       "      <td>NaN</td>\n",
       "      <td>NaN</td>\n",
       "      <td>NaN</td>\n",
       "      <td>NaN</td>\n",
       "    </tr>\n",
       "    <tr>\n",
       "      <th>...</th>\n",
       "      <td>...</td>\n",
       "      <td>...</td>\n",
       "      <td>...</td>\n",
       "      <td>...</td>\n",
       "      <td>...</td>\n",
       "      <td>...</td>\n",
       "      <td>...</td>\n",
       "      <td>...</td>\n",
       "      <td>...</td>\n",
       "      <td>...</td>\n",
       "      <td>...</td>\n",
       "      <td>...</td>\n",
       "      <td>...</td>\n",
       "      <td>...</td>\n",
       "      <td>...</td>\n",
       "      <td>...</td>\n",
       "      <td>...</td>\n",
       "      <td>...</td>\n",
       "      <td>...</td>\n",
       "      <td>...</td>\n",
       "      <td>...</td>\n",
       "    </tr>\n",
       "    <tr>\n",
       "      <th>1936753</th>\n",
       "      <td>7009710</td>\n",
       "      <td>2008</td>\n",
       "      <td>12</td>\n",
       "      <td>13</td>\n",
       "      <td>6</td>\n",
       "      <td>1250.0</td>\n",
       "      <td>1220</td>\n",
       "      <td>1617.0</td>\n",
       "      <td>1552</td>\n",
       "      <td>DL</td>\n",
       "      <td>...</td>\n",
       "      <td>9.0</td>\n",
       "      <td>18.0</td>\n",
       "      <td>0</td>\n",
       "      <td>N</td>\n",
       "      <td>0</td>\n",
       "      <td>3.0</td>\n",
       "      <td>0.0</td>\n",
       "      <td>0.0</td>\n",
       "      <td>0.0</td>\n",
       "      <td>22.0</td>\n",
       "    </tr>\n",
       "    <tr>\n",
       "      <th>1936754</th>\n",
       "      <td>7009717</td>\n",
       "      <td>2008</td>\n",
       "      <td>12</td>\n",
       "      <td>13</td>\n",
       "      <td>6</td>\n",
       "      <td>657.0</td>\n",
       "      <td>600</td>\n",
       "      <td>904.0</td>\n",
       "      <td>749</td>\n",
       "      <td>DL</td>\n",
       "      <td>...</td>\n",
       "      <td>15.0</td>\n",
       "      <td>34.0</td>\n",
       "      <td>0</td>\n",
       "      <td>N</td>\n",
       "      <td>0</td>\n",
       "      <td>0.0</td>\n",
       "      <td>57.0</td>\n",
       "      <td>18.0</td>\n",
       "      <td>0.0</td>\n",
       "      <td>0.0</td>\n",
       "    </tr>\n",
       "    <tr>\n",
       "      <th>1936755</th>\n",
       "      <td>7009718</td>\n",
       "      <td>2008</td>\n",
       "      <td>12</td>\n",
       "      <td>13</td>\n",
       "      <td>6</td>\n",
       "      <td>1007.0</td>\n",
       "      <td>847</td>\n",
       "      <td>1149.0</td>\n",
       "      <td>1010</td>\n",
       "      <td>DL</td>\n",
       "      <td>...</td>\n",
       "      <td>8.0</td>\n",
       "      <td>32.0</td>\n",
       "      <td>0</td>\n",
       "      <td>N</td>\n",
       "      <td>0</td>\n",
       "      <td>1.0</td>\n",
       "      <td>0.0</td>\n",
       "      <td>19.0</td>\n",
       "      <td>0.0</td>\n",
       "      <td>79.0</td>\n",
       "    </tr>\n",
       "    <tr>\n",
       "      <th>1936756</th>\n",
       "      <td>7009726</td>\n",
       "      <td>2008</td>\n",
       "      <td>12</td>\n",
       "      <td>13</td>\n",
       "      <td>6</td>\n",
       "      <td>1251.0</td>\n",
       "      <td>1240</td>\n",
       "      <td>1446.0</td>\n",
       "      <td>1437</td>\n",
       "      <td>DL</td>\n",
       "      <td>...</td>\n",
       "      <td>13.0</td>\n",
       "      <td>13.0</td>\n",
       "      <td>0</td>\n",
       "      <td>N</td>\n",
       "      <td>0</td>\n",
       "      <td>NaN</td>\n",
       "      <td>NaN</td>\n",
       "      <td>NaN</td>\n",
       "      <td>NaN</td>\n",
       "      <td>NaN</td>\n",
       "    </tr>\n",
       "    <tr>\n",
       "      <th>1936757</th>\n",
       "      <td>7009727</td>\n",
       "      <td>2008</td>\n",
       "      <td>12</td>\n",
       "      <td>13</td>\n",
       "      <td>6</td>\n",
       "      <td>1110.0</td>\n",
       "      <td>1103</td>\n",
       "      <td>1413.0</td>\n",
       "      <td>1418</td>\n",
       "      <td>DL</td>\n",
       "      <td>...</td>\n",
       "      <td>8.0</td>\n",
       "      <td>11.0</td>\n",
       "      <td>0</td>\n",
       "      <td>N</td>\n",
       "      <td>0</td>\n",
       "      <td>NaN</td>\n",
       "      <td>NaN</td>\n",
       "      <td>NaN</td>\n",
       "      <td>NaN</td>\n",
       "      <td>NaN</td>\n",
       "    </tr>\n",
       "  </tbody>\n",
       "</table>\n",
       "<p>1936758 rows × 30 columns</p>\n",
       "</div>"
      ],
      "text/plain": [
       "         Unnamed: 0  Year  Month  DayofMonth  DayOfWeek  DepTime  CRSDepTime  \\\n",
       "0                 0  2008      1           3          4   2003.0        1955   \n",
       "1                 1  2008      1           3          4    754.0         735   \n",
       "2                 2  2008      1           3          4    628.0         620   \n",
       "3                 4  2008      1           3          4   1829.0        1755   \n",
       "4                 5  2008      1           3          4   1940.0        1915   \n",
       "...             ...   ...    ...         ...        ...      ...         ...   \n",
       "1936753     7009710  2008     12          13          6   1250.0        1220   \n",
       "1936754     7009717  2008     12          13          6    657.0         600   \n",
       "1936755     7009718  2008     12          13          6   1007.0         847   \n",
       "1936756     7009726  2008     12          13          6   1251.0        1240   \n",
       "1936757     7009727  2008     12          13          6   1110.0        1103   \n",
       "\n",
       "         ArrTime  CRSArrTime UniqueCarrier  ...  TaxiIn TaxiOut  Cancelled  \\\n",
       "0         2211.0        2225            WN  ...     4.0     8.0          0   \n",
       "1         1002.0        1000            WN  ...     5.0    10.0          0   \n",
       "2          804.0         750            WN  ...     3.0    17.0          0   \n",
       "3         1959.0        1925            WN  ...     3.0    10.0          0   \n",
       "4         2121.0        2110            WN  ...     4.0    10.0          0   \n",
       "...          ...         ...           ...  ...     ...     ...        ...   \n",
       "1936753   1617.0        1552            DL  ...     9.0    18.0          0   \n",
       "1936754    904.0         749            DL  ...    15.0    34.0          0   \n",
       "1936755   1149.0        1010            DL  ...     8.0    32.0          0   \n",
       "1936756   1446.0        1437            DL  ...    13.0    13.0          0   \n",
       "1936757   1413.0        1418            DL  ...     8.0    11.0          0   \n",
       "\n",
       "         CancellationCode  Diverted  CarrierDelay  WeatherDelay NASDelay  \\\n",
       "0                       N         0           NaN           NaN      NaN   \n",
       "1                       N         0           NaN           NaN      NaN   \n",
       "2                       N         0           NaN           NaN      NaN   \n",
       "3                       N         0           2.0           0.0      0.0   \n",
       "4                       N         0           NaN           NaN      NaN   \n",
       "...                   ...       ...           ...           ...      ...   \n",
       "1936753                 N         0           3.0           0.0      0.0   \n",
       "1936754                 N         0           0.0          57.0     18.0   \n",
       "1936755                 N         0           1.0           0.0     19.0   \n",
       "1936756                 N         0           NaN           NaN      NaN   \n",
       "1936757                 N         0           NaN           NaN      NaN   \n",
       "\n",
       "        SecurityDelay  LateAircraftDelay  \n",
       "0                 NaN                NaN  \n",
       "1                 NaN                NaN  \n",
       "2                 NaN                NaN  \n",
       "3                 0.0               32.0  \n",
       "4                 NaN                NaN  \n",
       "...               ...                ...  \n",
       "1936753           0.0               22.0  \n",
       "1936754           0.0                0.0  \n",
       "1936755           0.0               79.0  \n",
       "1936756           NaN                NaN  \n",
       "1936757           NaN                NaN  \n",
       "\n",
       "[1936758 rows x 30 columns]"
      ]
     },
     "execution_count": 111,
     "metadata": {},
     "output_type": "execute_result"
    }
   ],
   "source": [
    "raw_df"
   ]
  },
  {
   "cell_type": "code",
   "execution_count": 112,
   "id": "ebc6d8ed",
   "metadata": {},
   "outputs": [],
   "source": [
    "# para eliminar entradas Nan y se reemplazan por la media de los valores de todo el set\n",
    "raw_df['ArrTime']= raw_df['ArrTime'].fillna(raw_df['ArrTime'].mean())"
   ]
  },
  {
   "cell_type": "code",
   "execution_count": 113,
   "id": "68e5a1b1",
   "metadata": {},
   "outputs": [],
   "source": [
    "# se seleccionan las columnas que se quieren utilizar. Se seleccionan las columnas de salida programada,\n",
    "# salida real, llegada programada y llegada real.\n",
    "df = raw_df[['UniqueCarrier', 'DepTime', 'CRSDepTime' , 'ArrTime', 'CRSArrTime']]"
   ]
  },
  {
   "cell_type": "code",
   "execution_count": 114,
   "id": "df81145d",
   "metadata": {
    "scrolled": false
   },
   "outputs": [
    {
     "data": {
      "text/html": [
       "<div>\n",
       "<style scoped>\n",
       "    .dataframe tbody tr th:only-of-type {\n",
       "        vertical-align: middle;\n",
       "    }\n",
       "\n",
       "    .dataframe tbody tr th {\n",
       "        vertical-align: top;\n",
       "    }\n",
       "\n",
       "    .dataframe thead th {\n",
       "        text-align: right;\n",
       "    }\n",
       "</style>\n",
       "<table border=\"1\" class=\"dataframe\">\n",
       "  <thead>\n",
       "    <tr style=\"text-align: right;\">\n",
       "      <th></th>\n",
       "      <th>UniqueCarrier</th>\n",
       "      <th>DepTime</th>\n",
       "      <th>CRSDepTime</th>\n",
       "      <th>ArrTime</th>\n",
       "      <th>CRSArrTime</th>\n",
       "    </tr>\n",
       "  </thead>\n",
       "  <tbody>\n",
       "    <tr>\n",
       "      <th>0</th>\n",
       "      <td>WN</td>\n",
       "      <td>2003.0</td>\n",
       "      <td>1955</td>\n",
       "      <td>2211.0</td>\n",
       "      <td>2225</td>\n",
       "    </tr>\n",
       "    <tr>\n",
       "      <th>1</th>\n",
       "      <td>WN</td>\n",
       "      <td>754.0</td>\n",
       "      <td>735</td>\n",
       "      <td>1002.0</td>\n",
       "      <td>1000</td>\n",
       "    </tr>\n",
       "    <tr>\n",
       "      <th>2</th>\n",
       "      <td>WN</td>\n",
       "      <td>628.0</td>\n",
       "      <td>620</td>\n",
       "      <td>804.0</td>\n",
       "      <td>750</td>\n",
       "    </tr>\n",
       "    <tr>\n",
       "      <th>3</th>\n",
       "      <td>WN</td>\n",
       "      <td>1829.0</td>\n",
       "      <td>1755</td>\n",
       "      <td>1959.0</td>\n",
       "      <td>1925</td>\n",
       "    </tr>\n",
       "    <tr>\n",
       "      <th>4</th>\n",
       "      <td>WN</td>\n",
       "      <td>1940.0</td>\n",
       "      <td>1915</td>\n",
       "      <td>2121.0</td>\n",
       "      <td>2110</td>\n",
       "    </tr>\n",
       "  </tbody>\n",
       "</table>\n",
       "</div>"
      ],
      "text/plain": [
       "  UniqueCarrier  DepTime  CRSDepTime  ArrTime  CRSArrTime\n",
       "0            WN   2003.0        1955   2211.0        2225\n",
       "1            WN    754.0         735   1002.0        1000\n",
       "2            WN    628.0         620    804.0         750\n",
       "3            WN   1829.0        1755   1959.0        1925\n",
       "4            WN   1940.0        1915   2121.0        2110"
      ]
     },
     "execution_count": 114,
     "metadata": {},
     "output_type": "execute_result"
    }
   ],
   "source": [
    "df.head(5)"
   ]
  },
  {
   "cell_type": "code",
   "execution_count": 115,
   "id": "5ec85645",
   "metadata": {
    "scrolled": false
   },
   "outputs": [
    {
     "data": {
      "text/plain": [
       "WN    377602\n",
       "AA    191865\n",
       "MQ    141920\n",
       "UA    141426\n",
       "OO    132433\n",
       "DL    114238\n",
       "XE    103663\n",
       "CO    100195\n",
       "US     98425\n",
       "EV     81877\n",
       "NW     79108\n",
       "FL     71284\n",
       "YV     67063\n",
       "B6     55315\n",
       "OH     52657\n",
       "9E     51885\n",
       "AS     39293\n",
       "F9     28269\n",
       "HA      7490\n",
       "AQ       750\n",
       "Name: UniqueCarrier, dtype: int64"
      ]
     },
     "execution_count": 115,
     "metadata": {},
     "output_type": "execute_result"
    }
   ],
   "source": [
    "df['UniqueCarrier'].value_counts()"
   ]
  },
  {
   "cell_type": "code",
   "execution_count": 116,
   "id": "edfa086d",
   "metadata": {},
   "outputs": [],
   "source": [
    "# finalmente, por cuestiones técnicas decido trabajar con los datos de una compañía y predecir\n",
    "# la puntualidad de una compañía específica en lugar de todo el set.\n",
    "carriers = df[(df.UniqueCarrier == 'WN')]['UniqueCarrier']\n",
    "wn = df[df['UniqueCarrier'].isin(carriers)]"
   ]
  },
  {
   "cell_type": "code",
   "execution_count": 117,
   "id": "c404bc77",
   "metadata": {
    "scrolled": true
   },
   "outputs": [
    {
     "data": {
      "text/html": [
       "<div>\n",
       "<style scoped>\n",
       "    .dataframe tbody tr th:only-of-type {\n",
       "        vertical-align: middle;\n",
       "    }\n",
       "\n",
       "    .dataframe tbody tr th {\n",
       "        vertical-align: top;\n",
       "    }\n",
       "\n",
       "    .dataframe thead th {\n",
       "        text-align: right;\n",
       "    }\n",
       "</style>\n",
       "<table border=\"1\" class=\"dataframe\">\n",
       "  <thead>\n",
       "    <tr style=\"text-align: right;\">\n",
       "      <th></th>\n",
       "      <th>UniqueCarrier</th>\n",
       "      <th>DepTime</th>\n",
       "      <th>CRSDepTime</th>\n",
       "      <th>ArrTime</th>\n",
       "      <th>CRSArrTime</th>\n",
       "    </tr>\n",
       "  </thead>\n",
       "  <tbody>\n",
       "    <tr>\n",
       "      <th>0</th>\n",
       "      <td>WN</td>\n",
       "      <td>2003.0</td>\n",
       "      <td>1955</td>\n",
       "      <td>2211.0</td>\n",
       "      <td>2225</td>\n",
       "    </tr>\n",
       "    <tr>\n",
       "      <th>1</th>\n",
       "      <td>WN</td>\n",
       "      <td>754.0</td>\n",
       "      <td>735</td>\n",
       "      <td>1002.0</td>\n",
       "      <td>1000</td>\n",
       "    </tr>\n",
       "    <tr>\n",
       "      <th>2</th>\n",
       "      <td>WN</td>\n",
       "      <td>628.0</td>\n",
       "      <td>620</td>\n",
       "      <td>804.0</td>\n",
       "      <td>750</td>\n",
       "    </tr>\n",
       "    <tr>\n",
       "      <th>3</th>\n",
       "      <td>WN</td>\n",
       "      <td>1829.0</td>\n",
       "      <td>1755</td>\n",
       "      <td>1959.0</td>\n",
       "      <td>1925</td>\n",
       "    </tr>\n",
       "    <tr>\n",
       "      <th>4</th>\n",
       "      <td>WN</td>\n",
       "      <td>1940.0</td>\n",
       "      <td>1915</td>\n",
       "      <td>2121.0</td>\n",
       "      <td>2110</td>\n",
       "    </tr>\n",
       "  </tbody>\n",
       "</table>\n",
       "</div>"
      ],
      "text/plain": [
       "  UniqueCarrier  DepTime  CRSDepTime  ArrTime  CRSArrTime\n",
       "0            WN   2003.0        1955   2211.0        2225\n",
       "1            WN    754.0         735   1002.0        1000\n",
       "2            WN    628.0         620    804.0         750\n",
       "3            WN   1829.0        1755   1959.0        1925\n",
       "4            WN   1940.0        1915   2121.0        2110"
      ]
     },
     "execution_count": 117,
     "metadata": {},
     "output_type": "execute_result"
    }
   ],
   "source": [
    "wn.head(5)"
   ]
  },
  {
   "cell_type": "code",
   "execution_count": 118,
   "id": "02dc103e",
   "metadata": {},
   "outputs": [
    {
     "data": {
      "text/plain": [
       "UniqueCarrier     object\n",
       "DepTime          float64\n",
       "CRSDepTime         int64\n",
       "ArrTime          float64\n",
       "CRSArrTime         int64\n",
       "dtype: object"
      ]
     },
     "execution_count": 118,
     "metadata": {},
     "output_type": "execute_result"
    }
   ],
   "source": [
    "wn.dtypes"
   ]
  },
  {
   "cell_type": "code",
   "execution_count": 119,
   "id": "17d25daf",
   "metadata": {
    "scrolled": true
   },
   "outputs": [
    {
     "data": {
      "text/html": [
       "<div>\n",
       "<style scoped>\n",
       "    .dataframe tbody tr th:only-of-type {\n",
       "        vertical-align: middle;\n",
       "    }\n",
       "\n",
       "    .dataframe tbody tr th {\n",
       "        vertical-align: top;\n",
       "    }\n",
       "\n",
       "    .dataframe thead th {\n",
       "        text-align: right;\n",
       "    }\n",
       "</style>\n",
       "<table border=\"1\" class=\"dataframe\">\n",
       "  <thead>\n",
       "    <tr style=\"text-align: right;\">\n",
       "      <th></th>\n",
       "      <th>DepTime</th>\n",
       "      <th>CRSDepTime</th>\n",
       "      <th>ArrTime</th>\n",
       "      <th>CRSArrTime</th>\n",
       "    </tr>\n",
       "  </thead>\n",
       "  <tbody>\n",
       "    <tr>\n",
       "      <th>count</th>\n",
       "      <td>377602.000000</td>\n",
       "      <td>377602.000000</td>\n",
       "      <td>377602.000000</td>\n",
       "      <td>377602.000000</td>\n",
       "    </tr>\n",
       "    <tr>\n",
       "      <th>mean</th>\n",
       "      <td>1564.304196</td>\n",
       "      <td>1516.528898</td>\n",
       "      <td>1648.512906</td>\n",
       "      <td>1668.651927</td>\n",
       "    </tr>\n",
       "    <tr>\n",
       "      <th>std</th>\n",
       "      <td>424.057374</td>\n",
       "      <td>402.096921</td>\n",
       "      <td>524.499495</td>\n",
       "      <td>455.023485</td>\n",
       "    </tr>\n",
       "    <tr>\n",
       "      <th>min</th>\n",
       "      <td>1.000000</td>\n",
       "      <td>600.000000</td>\n",
       "      <td>1.000000</td>\n",
       "      <td>5.000000</td>\n",
       "    </tr>\n",
       "    <tr>\n",
       "      <th>25%</th>\n",
       "      <td>1243.000000</td>\n",
       "      <td>1220.000000</td>\n",
       "      <td>1350.000000</td>\n",
       "      <td>1355.000000</td>\n",
       "    </tr>\n",
       "    <tr>\n",
       "      <th>50%</th>\n",
       "      <td>1616.000000</td>\n",
       "      <td>1545.000000</td>\n",
       "      <td>1734.000000</td>\n",
       "      <td>1730.000000</td>\n",
       "    </tr>\n",
       "    <tr>\n",
       "      <th>75%</th>\n",
       "      <td>1920.000000</td>\n",
       "      <td>1845.000000</td>\n",
       "      <td>2041.000000</td>\n",
       "      <td>2028.750000</td>\n",
       "    </tr>\n",
       "    <tr>\n",
       "      <th>max</th>\n",
       "      <td>2400.000000</td>\n",
       "      <td>2235.000000</td>\n",
       "      <td>2400.000000</td>\n",
       "      <td>2355.000000</td>\n",
       "    </tr>\n",
       "  </tbody>\n",
       "</table>\n",
       "</div>"
      ],
      "text/plain": [
       "             DepTime     CRSDepTime        ArrTime     CRSArrTime\n",
       "count  377602.000000  377602.000000  377602.000000  377602.000000\n",
       "mean     1564.304196    1516.528898    1648.512906    1668.651927\n",
       "std       424.057374     402.096921     524.499495     455.023485\n",
       "min         1.000000     600.000000       1.000000       5.000000\n",
       "25%      1243.000000    1220.000000    1350.000000    1355.000000\n",
       "50%      1616.000000    1545.000000    1734.000000    1730.000000\n",
       "75%      1920.000000    1845.000000    2041.000000    2028.750000\n",
       "max      2400.000000    2235.000000    2400.000000    2355.000000"
      ]
     },
     "execution_count": 119,
     "metadata": {},
     "output_type": "execute_result"
    }
   ],
   "source": [
    "wn.describe()"
   ]
  },
  {
   "cell_type": "markdown",
   "id": "0789262a",
   "metadata": {},
   "source": [
    "### **- Exercici 1:**\n",
    "\n",
    "Crea almenys tres models de classificació diferents per intentar predir el millor possible l’endarreriment dels vols (ArrDelay) de DelayedFlights.csv. Considera si el vol ha arribat tard o no (ArrDelay > 0)."
   ]
  },
  {
   "cell_type": "markdown",
   "id": "0bc85859",
   "metadata": {},
   "source": [
    "**Decision Tree Model**"
   ]
  },
  {
   "cell_type": "code",
   "execution_count": 120,
   "id": "64f0c786",
   "metadata": {},
   "outputs": [],
   "source": [
    "feature_cols = ['CRSDepTime', 'DepTime', 'ArrTime',]\n",
    "X = wn[feature_cols] # Características\n",
    "y = wn.CRSArrTime # Eje objetivo"
   ]
  },
  {
   "cell_type": "code",
   "execution_count": 121,
   "id": "8d0b3e29",
   "metadata": {},
   "outputs": [],
   "source": [
    "# creación del objeto\n",
    "clf = DecisionTreeClassifier()\n",
    "# Train del Decision Tree Classifer\n",
    "clf = clf.fit(X ,y)\n",
    "# predicciónes de test dataset\n",
    "y_pred = clf.predict(X)"
   ]
  },
  {
   "cell_type": "code",
   "execution_count": 122,
   "id": "02c3f879",
   "metadata": {},
   "outputs": [
    {
     "data": {
      "text/plain": [
       "array([2205, 1000,  750, ..., 2215, 2005, 1920])"
      ]
     },
     "execution_count": 122,
     "metadata": {},
     "output_type": "execute_result"
    }
   ],
   "source": [
    "y_pred"
   ]
  },
  {
   "cell_type": "code",
   "execution_count": 123,
   "id": "a0166122",
   "metadata": {
    "scrolled": false
   },
   "outputs": [],
   "source": [
    "# Accuracy de modelo Decision Tree\n",
    "accuracy_decision_tree = metrics.accuracy_score(y, y_pred)"
   ]
  },
  {
   "cell_type": "code",
   "execution_count": 124,
   "id": "4a359af2",
   "metadata": {
    "scrolled": true
   },
   "outputs": [],
   "source": [
    "# Matriz de confianza\n",
    "matrix_decision_tree = metrics.confusion_matrix(y, y_pred)"
   ]
  },
  {
   "cell_type": "code",
   "execution_count": 125,
   "id": "04dc6aba",
   "metadata": {},
   "outputs": [
    {
     "name": "stdout",
     "output_type": "stream",
     "text": [
      "[[1041    1    0 ...    1    0    0]\n",
      " [   6  511    0 ...    0    0    0]\n",
      " [   2    1  474 ...    0    0    0]\n",
      " ...\n",
      " [   3    0    2 ...  853    1    0]\n",
      " [   4    0    3 ...    5  993    0]\n",
      " [   7    0    1 ...    6   14 1437]]\n"
     ]
    }
   ],
   "source": [
    "# Separación de la matriz de confianza\n",
    "confusion_decision_tree = metrics.confusion_matrix(y, y_pred)\n",
    "print(confusion_decision_tree)\n",
    "#[fila, columna]\n",
    "TP_DT = confusion_decision_tree[1, 1]\n",
    "TN_DT = confusion_decision_tree[0, 0]\n",
    "FP_DT = confusion_decision_tree[0, 1]\n",
    "FN_DT = confusion_decision_tree[1, 0]"
   ]
  },
  {
   "cell_type": "code",
   "execution_count": 126,
   "id": "282e562a",
   "metadata": {},
   "outputs": [
    {
     "name": "stdout",
     "output_type": "stream",
     "text": [
      "0.9955099422706863\n",
      "0.9028156630526322\n"
     ]
    }
   ],
   "source": [
    "#classification accuracy\n",
    "classification_accuracy_decision_tree = (TP_DT + TN_DT) / float(TP_DT + TN_DT + FP_DT + FN_DT)\n",
    "print(classification_accuracy_decision_tree)\n",
    "print(metrics.accuracy_score(y , y_pred))"
   ]
  },
  {
   "cell_type": "code",
   "execution_count": 127,
   "id": "899d862e",
   "metadata": {},
   "outputs": [
    {
     "name": "stdout",
     "output_type": "stream",
     "text": [
      "0.004490057729313663\n",
      "0.09718433694736783\n"
     ]
    }
   ],
   "source": [
    "#classification error\n",
    "classification_error_decision_tree = (FP_DT + FN_DT) / float(TP_DT + TN_DT + FP_DT + FN_DT)\n",
    "print(classification_error_decision_tree)\n",
    "print(1 - metrics.accuracy_score(y , y_pred))"
   ]
  },
  {
   "cell_type": "code",
   "execution_count": 128,
   "id": "7f109c29",
   "metadata": {},
   "outputs": [
    {
     "name": "stdout",
     "output_type": "stream",
     "text": [
      "0.988394584139265\n",
      "0.9028156630526322\n"
     ]
    }
   ],
   "source": [
    "# sensibilidad\n",
    "sensitivity_decision_tree = (TP_DT) / float(FN_DT + TP_DT)\n",
    "print(sensitivity_decision_tree)\n",
    "print(metrics.recall_score(y , y_pred, average='micro'))"
   ]
  },
  {
   "cell_type": "code",
   "execution_count": 129,
   "id": "15087a7c",
   "metadata": {},
   "outputs": [
    {
     "name": "stdout",
     "output_type": "stream",
     "text": [
      "0.9990403071017274\n"
     ]
    }
   ],
   "source": [
    "#especifidad\n",
    "specificity_decision_tree = (TN_DT) / (TN_DT + FP_DT)\n",
    "print(specificity_decision_tree)"
   ]
  },
  {
   "cell_type": "code",
   "execution_count": 130,
   "id": "8c9584cd",
   "metadata": {},
   "outputs": [
    {
     "name": "stdout",
     "output_type": "stream",
     "text": [
      "0.0009596928982725527\n",
      "0.0009596928982725794\n"
     ]
    }
   ],
   "source": [
    "# ratio de falsos positivos\n",
    "false_positive_rate_decision_tree = (FP_DT) / float(TN_DT + FP_DT)\n",
    "print(false_positive_rate_decision_tree)\n",
    "print(1 - specificity_decision_tree)"
   ]
  },
  {
   "cell_type": "code",
   "execution_count": 131,
   "id": "de38eec5",
   "metadata": {},
   "outputs": [
    {
     "name": "stdout",
     "output_type": "stream",
     "text": [
      "0.998046875\n",
      "0.9028156630526322\n"
     ]
    }
   ],
   "source": [
    "# precisión \n",
    "precision_decision_tree = (TP_DT) / float(TP_DT + FP_DT)\n",
    "print(precision_decision_tree)\n",
    "print(metrics.precision_score(y , y_pred, average='micro'))"
   ]
  },
  {
   "cell_type": "markdown",
   "id": "ba4f3feb",
   "metadata": {},
   "source": [
    "**KNN**"
   ]
  },
  {
   "cell_type": "code",
   "execution_count": 132,
   "id": "102e7970",
   "metadata": {},
   "outputs": [],
   "source": [
    "feature_cols = ['CRSDepTime', 'DepTime', 'ArrTime',]\n",
    "X = wn[feature_cols] # Características\n",
    "y = wn.CRSArrTime # Eje objetivo"
   ]
  },
  {
   "cell_type": "code",
   "execution_count": 133,
   "id": "9f179968",
   "metadata": {},
   "outputs": [],
   "source": [
    "# Objeto KNN\n",
    "classifier = KNeighborsClassifier()\n",
    "# Fit \n",
    "classifier.fit(X, y)\n",
    "# predicciones\n",
    "y_pred = classifier.predict(X)"
   ]
  },
  {
   "cell_type": "code",
   "execution_count": 134,
   "id": "cf3e4f97",
   "metadata": {},
   "outputs": [
    {
     "data": {
      "text/plain": [
       "array([2205, 1000,  800, ..., 2215, 1950, 1920])"
      ]
     },
     "execution_count": 134,
     "metadata": {},
     "output_type": "execute_result"
    }
   ],
   "source": [
    "y_pred"
   ]
  },
  {
   "cell_type": "code",
   "execution_count": 135,
   "id": "03ea7b30",
   "metadata": {},
   "outputs": [
    {
     "name": "stdout",
     "output_type": "stream",
     "text": [
      "0.5089909481411645\n"
     ]
    }
   ],
   "source": [
    "# Accuracy de modelo KNN\n",
    "accuracy_knn = metrics.accuracy_score(y , y_pred)\n",
    "print(accuracy_knn)"
   ]
  },
  {
   "cell_type": "code",
   "execution_count": 136,
   "id": "bb370acd",
   "metadata": {},
   "outputs": [
    {
     "name": "stdout",
     "output_type": "stream",
     "text": [
      "[[795  32  19 ...  21  22  87]\n",
      " [ 75 324  12 ...   4   3  21]\n",
      " [ 61  20 275 ...   4   8  13]\n",
      " ...\n",
      " [ 61  11  16 ... 408  66  60]\n",
      " [ 94  11  18 ...  57 555  87]\n",
      " [152  37  30 ...  71  71 927]]\n"
     ]
    }
   ],
   "source": [
    "# Separación de la matriz de confianza\n",
    "confusion_knn = metrics.confusion_matrix(y, y_pred)\n",
    "print(confusion_knn)\n",
    "#[fila, columna]\n",
    "TP_KNN = confusion_knn[1, 1]\n",
    "TN_KNN = confusion_knn[0, 0]\n",
    "FP_KNN = confusion_knn[0, 1]\n",
    "FN_KNN = confusion_knn[1, 0]"
   ]
  },
  {
   "cell_type": "code",
   "execution_count": 137,
   "id": "c528c4c6",
   "metadata": {},
   "outputs": [
    {
     "name": "stdout",
     "output_type": "stream",
     "text": [
      "0.5089909481411645\n",
      "0.5089909481411645\n"
     ]
    }
   ],
   "source": [
    "#classification accuracy\n",
    "classification_accuracy_knn =(TP_KNN + TN_KNN) / float(TP_KNN + TN_KNN + FP_KNN + FN_KNN)\n",
    "print(metrics.accuracy_score(y , y_pred))\n",
    "print(metrics.accuracy_score(y , y_pred))"
   ]
  },
  {
   "cell_type": "code",
   "execution_count": 138,
   "id": "340ebe67",
   "metadata": {},
   "outputs": [
    {
     "name": "stdout",
     "output_type": "stream",
     "text": [
      "0.08727569331158239\n",
      "0.4910090518588355\n"
     ]
    }
   ],
   "source": [
    "# Error de clasificación\n",
    "classification_error_knn = (FP_KNN + FN_KNN) / float(TP_KNN + TN_KNN + FP_KNN + FN_KNN)\n",
    "print(classification_error_knn)\n",
    "print(1 - metrics.accuracy_score(y , y_pred))"
   ]
  },
  {
   "cell_type": "code",
   "execution_count": 139,
   "id": "67e7127d",
   "metadata": {},
   "outputs": [
    {
     "name": "stdout",
     "output_type": "stream",
     "text": [
      "0.8120300751879699\n",
      "0.5089909481411645\n"
     ]
    }
   ],
   "source": [
    "#Sensibilidad\n",
    "sensitivity_knn = (TP_KNN) / float(FN_KNN + TP_KNN)\n",
    "print(sensitivity_knn)\n",
    "print(metrics.recall_score(y , y_pred, average='micro'))"
   ]
  },
  {
   "cell_type": "code",
   "execution_count": 140,
   "id": "07cbef16",
   "metadata": {},
   "outputs": [
    {
     "name": "stdout",
     "output_type": "stream",
     "text": [
      "0.9613059250302297\n"
     ]
    }
   ],
   "source": [
    "# Especificidad\n",
    "specificity_knn = TN_KNN / (TN_KNN + FP_KNN)\n",
    "print(specificity_knn)"
   ]
  },
  {
   "cell_type": "code",
   "execution_count": 141,
   "id": "d14d8fc6",
   "metadata": {},
   "outputs": [
    {
     "name": "stdout",
     "output_type": "stream",
     "text": [
      "0.03869407496977025\n",
      "0.03869407496977029\n"
     ]
    }
   ],
   "source": [
    "# Ratio de falsos positvos\n",
    "false_positive_rate_knn = (FP_KNN) / float(TN_KNN + FP_KNN)\n",
    "print(false_positive_rate_knn)\n",
    "print(1 - specificity_knn)"
   ]
  },
  {
   "cell_type": "code",
   "execution_count": 142,
   "id": "f05c3081",
   "metadata": {},
   "outputs": [
    {
     "name": "stdout",
     "output_type": "stream",
     "text": [
      "0.9101123595505618\n",
      "0.5089909481411645\n"
     ]
    }
   ],
   "source": [
    "# precisión\n",
    "precision_knn = (TP_KNN) / float(TP_KNN + FP_KNN)\n",
    "print(precision_knn)\n",
    "print(metrics.precision_score(y , y_pred, average='micro'))"
   ]
  },
  {
   "cell_type": "markdown",
   "id": "a2843966",
   "metadata": {},
   "source": [
    "**Support Vector Machine**"
   ]
  },
  {
   "cell_type": "code",
   "execution_count": 143,
   "id": "eeb81cd2",
   "metadata": {},
   "outputs": [],
   "source": [
    "feature_cols = ['CRSDepTime', 'DepTime', 'ArrTime',]\n",
    "X = wn[feature_cols] # Características\n",
    "y = wn.CRSArrTime # Eje objetivo"
   ]
  },
  {
   "cell_type": "code",
   "execution_count": 144,
   "id": "0bc0cff5",
   "metadata": {},
   "outputs": [],
   "source": [
    "# por rendimiento, limito las muestras a 20000, pese a que puede afectar los resultados.\n",
    "X = X[ :1000]\n",
    "y = y[ :1000]"
   ]
  },
  {
   "cell_type": "code",
   "execution_count": 145,
   "id": "30f3c5d3",
   "metadata": {},
   "outputs": [],
   "source": [
    "# Clasificación mediante SVM\n",
    "clf = svm.SVC()\n",
    "clf.fit(X , y)\n",
    "# Predicciones\n",
    "y_pred = clf.predict(X)"
   ]
  },
  {
   "cell_type": "code",
   "execution_count": 146,
   "id": "6c38e5c1",
   "metadata": {},
   "outputs": [],
   "source": [
    "# Accuracy de modelo SVM\n",
    "accuracy_svm = metrics.accuracy_score(y , y_pred)"
   ]
  },
  {
   "cell_type": "code",
   "execution_count": 147,
   "id": "3b537c53",
   "metadata": {
    "scrolled": true
   },
   "outputs": [
    {
     "name": "stdout",
     "output_type": "stream",
     "text": [
      "[[0 0 0 ... 0 1 0]\n",
      " [0 0 0 ... 0 0 0]\n",
      " [0 0 0 ... 0 0 0]\n",
      " ...\n",
      " [0 0 0 ... 0 1 0]\n",
      " [0 0 0 ... 0 3 0]\n",
      " [0 0 0 ... 0 1 0]]\n"
     ]
    }
   ],
   "source": [
    "# Separación de la matriz de confianza\n",
    "confusion_svm = metrics.confusion_matrix(y , y_pred)\n",
    "print(confusion_svm)\n",
    "#[fila, columna]\n",
    "TP_SVM = confusion_svm[1, 1]\n",
    "TN_SVM = confusion_svm[0, 0]\n",
    "FP_SVM = confusion_svm[0, 1]\n",
    "FN_SVM = confusion_svm[1, 0]"
   ]
  },
  {
   "cell_type": "code",
   "execution_count": 148,
   "id": "a6979c31",
   "metadata": {},
   "outputs": [
    {
     "name": "stdout",
     "output_type": "stream",
     "text": [
      "nan\n",
      "0.065\n"
     ]
    },
    {
     "name": "stderr",
     "output_type": "stream",
     "text": [
      "/var/folders/s5/_b24t8m574q3h2svhkm3k6500000gn/T/ipykernel_804/2487099221.py:2: RuntimeWarning: invalid value encountered in true_divide\n",
      "  classification_accuracy_svm = (TP_SVM + TN_SVM) / float(TP_SVM + TN_SVM + FP_SVM + FN_SVM)\n"
     ]
    }
   ],
   "source": [
    "#classification accuracy\n",
    "classification_accuracy_svm = (TP_SVM + TN_SVM) / float(TP_SVM + TN_SVM + FP_SVM + FN_SVM)\n",
    "print(classification_accuracy_svm)\n",
    "print(metrics.accuracy_score(y , y_pred))"
   ]
  },
  {
   "cell_type": "code",
   "execution_count": 149,
   "id": "4b6e0416",
   "metadata": {},
   "outputs": [
    {
     "name": "stdout",
     "output_type": "stream",
     "text": [
      "nan\n",
      "0.935\n"
     ]
    },
    {
     "name": "stderr",
     "output_type": "stream",
     "text": [
      "/var/folders/s5/_b24t8m574q3h2svhkm3k6500000gn/T/ipykernel_804/2179497558.py:2: RuntimeWarning: invalid value encountered in true_divide\n",
      "  classification_error_svm = (FP_SVM + FN_SVM) / float(TP_SVM + TN_SVM + FP_SVM + FN_SVM)\n"
     ]
    }
   ],
   "source": [
    "# classification error\n",
    "classification_error_svm = (FP_SVM + FN_SVM) / float(TP_SVM + TN_SVM + FP_SVM + FN_SVM)\n",
    "print(classification_error_svm)\n",
    "print(1 - metrics.accuracy_score(y , y_pred))"
   ]
  },
  {
   "cell_type": "code",
   "execution_count": 150,
   "id": "1c03436c",
   "metadata": {},
   "outputs": [
    {
     "name": "stdout",
     "output_type": "stream",
     "text": [
      "nan\n",
      "0.065\n"
     ]
    },
    {
     "name": "stderr",
     "output_type": "stream",
     "text": [
      "/var/folders/s5/_b24t8m574q3h2svhkm3k6500000gn/T/ipykernel_804/2944104583.py:2: RuntimeWarning: invalid value encountered in true_divide\n",
      "  sensitivity_svm = (TP_SVM) / float(FN_SVM + TP_SVM)\n"
     ]
    }
   ],
   "source": [
    "# sensibilidad\n",
    "sensitivity_svm = (TP_SVM) / float(FN_SVM + TP_SVM)\n",
    "print(sensitivity_svm)\n",
    "print(metrics.recall_score(y , y_pred, average='micro'))"
   ]
  },
  {
   "cell_type": "code",
   "execution_count": 151,
   "id": "4324fb63",
   "metadata": {},
   "outputs": [
    {
     "name": "stdout",
     "output_type": "stream",
     "text": [
      "nan\n"
     ]
    },
    {
     "name": "stderr",
     "output_type": "stream",
     "text": [
      "/var/folders/s5/_b24t8m574q3h2svhkm3k6500000gn/T/ipykernel_804/1190349425.py:2: RuntimeWarning: invalid value encountered in long_scalars\n",
      "  specificity_svm = (TN_SVM) / (TN_SVM + FP_SVM)\n"
     ]
    }
   ],
   "source": [
    "# Especifidad\n",
    "specificity_svm = (TN_SVM) / (TN_SVM + FP_SVM)\n",
    "print(specificity_svm)"
   ]
  },
  {
   "cell_type": "code",
   "execution_count": 152,
   "id": "5ee166ba",
   "metadata": {},
   "outputs": [
    {
     "name": "stdout",
     "output_type": "stream",
     "text": [
      "nan\n",
      "nan\n"
     ]
    },
    {
     "name": "stderr",
     "output_type": "stream",
     "text": [
      "/var/folders/s5/_b24t8m574q3h2svhkm3k6500000gn/T/ipykernel_804/2499976114.py:2: RuntimeWarning: invalid value encountered in true_divide\n",
      "  false_positive_rate_svm = (FP_SVM) / float(TN_SVM + FP_SVM)\n"
     ]
    }
   ],
   "source": [
    "# Ratio de falsos positivos\n",
    "false_positive_rate_svm = (FP_SVM) / float(TN_SVM + FP_SVM)\n",
    "print(false_positive_rate_svm)\n",
    "print(1 - specificity_svm)"
   ]
  },
  {
   "cell_type": "code",
   "execution_count": 153,
   "id": "6c5c30a2",
   "metadata": {},
   "outputs": [
    {
     "name": "stdout",
     "output_type": "stream",
     "text": [
      "nan\n",
      "0.065\n"
     ]
    },
    {
     "name": "stderr",
     "output_type": "stream",
     "text": [
      "/var/folders/s5/_b24t8m574q3h2svhkm3k6500000gn/T/ipykernel_804/86456474.py:2: RuntimeWarning: invalid value encountered in true_divide\n",
      "  precision_svm = (TP_SVM) / float(TP_SVM + FP_SVM)\n"
     ]
    }
   ],
   "source": [
    "#precisión\n",
    "precision_svm = (TP_SVM) / float(TP_SVM + FP_SVM)\n",
    "print(precision_svm)\n",
    "print(metrics.precision_score(y , y_pred, average='micro'))"
   ]
  },
  {
   "cell_type": "markdown",
   "id": "8c1ad052",
   "metadata": {},
   "source": [
    "### **- Exercici 2**\n",
    "\n",
    "Compara els models de classificació utilitzant la precisió (accuracy), una matriu de confiança i d’altres mètriques més avançades."
   ]
  },
  {
   "cell_type": "code",
   "execution_count": 154,
   "id": "08a5e725",
   "metadata": {},
   "outputs": [
    {
     "name": "stdout",
     "output_type": "stream",
     "text": [
      "Decision Tree accuracy: 0.902816\n",
      "KNN accuracy: 0.508991\n",
      "SVM accuracy: 0.065000\n"
     ]
    }
   ],
   "source": [
    "# comparativa de Accuracy de los tres modelos de clasificación\n",
    "print(\"Decision Tree accuracy: %f\" %accuracy_decision_tree)\n",
    "print(\"KNN accuracy: %f\" %accuracy_knn)\n",
    "print(\"SVM accuracy: %f\" %accuracy_svm)"
   ]
  },
  {
   "cell_type": "code",
   "execution_count": 155,
   "id": "6c3d534e",
   "metadata": {},
   "outputs": [
    {
     "name": "stdout",
     "output_type": "stream",
     "text": [
      "Matriz del arbol de decisión: \n",
      "[[1041    1    0 ...    1    0    0]\n",
      " [   6  511    0 ...    0    0    0]\n",
      " [   2    1  474 ...    0    0    0]\n",
      " ...\n",
      " [   3    0    2 ...  853    1    0]\n",
      " [   4    0    3 ...    5  993    0]\n",
      " [   7    0    1 ...    6   14 1437]]\n",
      "\n",
      "Matriz del modelo KNN: \n",
      "[[795  32  19 ...  21  22  87]\n",
      " [ 75 324  12 ...   4   3  21]\n",
      " [ 61  20 275 ...   4   8  13]\n",
      " ...\n",
      " [ 61  11  16 ... 408  66  60]\n",
      " [ 94  11  18 ...  57 555  87]\n",
      " [152  37  30 ...  71  71 927]]\n",
      "\n",
      "Matriz del modelo SVM: \n",
      "[[0 0 0 ... 0 1 0]\n",
      " [0 0 0 ... 0 0 0]\n",
      " [0 0 0 ... 0 0 0]\n",
      " ...\n",
      " [0 0 0 ... 0 1 0]\n",
      " [0 0 0 ... 0 3 0]\n",
      " [0 0 0 ... 0 1 0]]\n"
     ]
    }
   ],
   "source": [
    "print(\"Matriz del arbol de decisión: \")\n",
    "print(matrix_decision_tree)\n",
    "print(\"\\nMatriz del modelo KNN: \")\n",
    "print(confusion_knn)\n",
    "print(\"\\nMatriz del modelo SVM: \")\n",
    "print(confusion_svm)"
   ]
  },
  {
   "cell_type": "code",
   "execution_count": 156,
   "id": "3b6ef0f3",
   "metadata": {},
   "outputs": [
    {
     "name": "stdout",
     "output_type": "stream",
     "text": [
      "Classificaction Accuracy Decision Tree:  0.9955099422706863\n",
      "Classificaction KNN:  0.9127243066884176\n",
      "Classificaction SVM:  nan\n"
     ]
    }
   ],
   "source": [
    "# comparativa resultados Classification Accuracy de los tres modelos\n",
    "print(\"Classificaction Accuracy Decision Tree: \", classification_accuracy_decision_tree)\n",
    "print(\"Classificaction KNN: \", classification_accuracy_knn)\n",
    "print(\"Classificaction SVM: \", classification_accuracy_svm)"
   ]
  },
  {
   "cell_type": "code",
   "execution_count": 157,
   "id": "0e863d33",
   "metadata": {},
   "outputs": [
    {
     "name": "stdout",
     "output_type": "stream",
     "text": [
      "Classification error accuracy Decision Tree:  0.004490057729313663\n",
      "Classification error accuracy KNN:  0.08727569331158239\n",
      "Classification error accuracy SVM:  nan\n"
     ]
    }
   ],
   "source": [
    "# comparativa Classification error accuracy de los tres modelos\n",
    "print(\"Classification error accuracy Decision Tree: \" , classification_error_decision_tree)\n",
    "print(\"Classification error accuracy KNN: \" , classification_error_knn)\n",
    "print(\"Classification error accuracy SVM: \" ,  classification_error_svm)"
   ]
  },
  {
   "cell_type": "code",
   "execution_count": 158,
   "id": "693a4131",
   "metadata": {},
   "outputs": [
    {
     "name": "stdout",
     "output_type": "stream",
     "text": [
      "Sensitivity decision tree:  0.988394584139265\n",
      "Sensitivity KNN:  0.8120300751879699\n",
      "Sensitivity SVM:  nan\n"
     ]
    }
   ],
   "source": [
    "# comparativa sensibilidad de los tres modelos\n",
    "print(\"Sensitivity decision tree: \" , sensitivity_decision_tree)\n",
    "print(\"Sensitivity KNN: \" ,sensitivity_knn)\n",
    "print(\"Sensitivity SVM: \" ,sensitivity_svm)"
   ]
  },
  {
   "cell_type": "code",
   "execution_count": 159,
   "id": "8d45a570",
   "metadata": {},
   "outputs": [
    {
     "name": "stdout",
     "output_type": "stream",
     "text": [
      "Specifitcity Decision Tree:  0.9990403071017274\n",
      "Specifitcity KNN:  0.9613059250302297\n",
      "Specifitcity SVM:  nan\n"
     ]
    }
   ],
   "source": [
    "# comparativa especifidad de los tres modelos\n",
    "print(\"Specifitcity Decision Tree: \" , specificity_decision_tree)\n",
    "print(\"Specifitcity KNN: \" , specificity_knn)\n",
    "print(\"Specifitcity SVM: \" , specificity_svm)"
   ]
  },
  {
   "cell_type": "code",
   "execution_count": 160,
   "id": "4667a959",
   "metadata": {},
   "outputs": [
    {
     "name": "stdout",
     "output_type": "stream",
     "text": [
      "False positive Decision Tree:  0.0009596928982725527\n",
      "False positive KNN:  0.03869407496977025\n",
      "False positive SVM:  nan\n"
     ]
    }
   ],
   "source": [
    "# comparativa falsos positivos de los tres modelos\n",
    "print(\"False positive Decision Tree: \" , false_positive_rate_decision_tree)\n",
    "print(\"False positive KNN: \" , false_positive_rate_knn)\n",
    "print(\"False positive SVM: \" , false_positive_rate_svm)"
   ]
  },
  {
   "cell_type": "code",
   "execution_count": 161,
   "id": "8dcacb75",
   "metadata": {
    "scrolled": true
   },
   "outputs": [
    {
     "name": "stdout",
     "output_type": "stream",
     "text": [
      "Precision Decision tree:  0.998046875\n",
      "Precision Decision KNN:  0.9101123595505618\n",
      "Precision Decision SVM:  nan\n"
     ]
    }
   ],
   "source": [
    "# comparativa precisión de los tres modelos\n",
    "print(\"Precision Decision tree: \" , precision_decision_tree)\n",
    "print(\"Precision Decision KNN: \" , precision_knn)\n",
    "print(\"Precision Decision SVM: \" , precision_svm)"
   ]
  },
  {
   "cell_type": "markdown",
   "id": "9e850827",
   "metadata": {},
   "source": [
    "### **- Exercici 3**\n",
    "\n",
    "Entrena’ls utilitzant els diferents paràmetres que admeten."
   ]
  },
  {
   "cell_type": "markdown",
   "id": "f9888e15",
   "metadata": {},
   "source": [
    "**Decison Tree**"
   ]
  },
  {
   "cell_type": "code",
   "execution_count": 162,
   "id": "0d366ece",
   "metadata": {},
   "outputs": [],
   "source": [
    "feature_cols = ['CRSDepTime', 'DepTime', 'ArrTime',]\n",
    "X = wn[feature_cols] # Características\n",
    "y = wn.CRSArrTime # Eje objetivo"
   ]
  },
  {
   "cell_type": "code",
   "execution_count": 163,
   "id": "faabf4e9",
   "metadata": {},
   "outputs": [],
   "source": [
    "# creación del objeto modificado criterio y la profundidad\n",
    "clf = DecisionTreeClassifier(criterion='gini', max_depth=5)\n",
    "# Train del Decision Tree Classifer\n",
    "clf = clf.fit(X ,y)\n",
    "# predicciónes de test dataset\n",
    "y_pred = clf.predict(X)"
   ]
  },
  {
   "cell_type": "code",
   "execution_count": 164,
   "id": "ec9657db",
   "metadata": {},
   "outputs": [
    {
     "data": {
      "text/plain": [
       "array([2135,   55,   55, ..., 2210, 2035, 1910])"
      ]
     },
     "execution_count": 164,
     "metadata": {},
     "output_type": "execute_result"
    }
   ],
   "source": [
    "y_pred"
   ]
  },
  {
   "cell_type": "code",
   "execution_count": 165,
   "id": "daacf0a7",
   "metadata": {
    "scrolled": true
   },
   "outputs": [
    {
     "name": "stdout",
     "output_type": "stream",
     "text": [
      "0.09276169088087458\n"
     ]
    }
   ],
   "source": [
    "# Accuracy de modelo Decision Tree\n",
    "trained_accuracy_decision_tree = metrics.accuracy_score(y, y_pred)\n",
    "print(trained_accuracy_decision_tree)"
   ]
  },
  {
   "cell_type": "markdown",
   "id": "e7870563",
   "metadata": {},
   "source": [
    "**KNN**"
   ]
  },
  {
   "cell_type": "code",
   "execution_count": 166,
   "id": "4a04dc72",
   "metadata": {},
   "outputs": [],
   "source": [
    "feature_cols = ['CRSDepTime', 'DepTime', 'ArrTime',]\n",
    "X = wn[feature_cols] # Características\n",
    "y = wn.CRSArrTime # Eje objetivo"
   ]
  },
  {
   "cell_type": "code",
   "execution_count": 167,
   "id": "4c761d59",
   "metadata": {},
   "outputs": [],
   "source": [
    "# KNN con parámetro de n_neighbors personalizado\n",
    "classifier = KNeighborsClassifier(n_neighbors=9)\n",
    "classifier.fit(X , y)\n",
    "y_pred = classifier.predict(X)"
   ]
  },
  {
   "cell_type": "code",
   "execution_count": 168,
   "id": "2e9adf33",
   "metadata": {},
   "outputs": [
    {
     "data": {
      "text/plain": [
       "array([2205,  945,  750, ..., 2215, 1950, 1920])"
      ]
     },
     "execution_count": 168,
     "metadata": {},
     "output_type": "execute_result"
    }
   ],
   "source": [
    "y_pred"
   ]
  },
  {
   "cell_type": "code",
   "execution_count": 169,
   "id": "8fcae621",
   "metadata": {},
   "outputs": [
    {
     "name": "stdout",
     "output_type": "stream",
     "text": [
      "0.5089909481411645\n"
     ]
    }
   ],
   "source": [
    "# Accuracy de modelo KNN\n",
    "trained_accuracy_knn = metrics.accuracy_score(y , y_pred)\n",
    "print(accuracy_knn)"
   ]
  },
  {
   "cell_type": "markdown",
   "id": "6a1060a0",
   "metadata": {},
   "source": [
    "**SVM**"
   ]
  },
  {
   "cell_type": "code",
   "execution_count": 170,
   "id": "0d81b932",
   "metadata": {},
   "outputs": [],
   "source": [
    "feature_cols = ['CRSDepTime', 'DepTime', 'ArrTime',]\n",
    "X = wn[feature_cols] # Características\n",
    "y = wn.CRSArrTime # Eje objetivo"
   ]
  },
  {
   "cell_type": "code",
   "execution_count": 171,
   "id": "a6bcae92",
   "metadata": {},
   "outputs": [],
   "source": [
    "# Limitación de muestras por motivos de rendiento y limitación de equipo\n",
    "X = X[ :1000]\n",
    "y = y[ :1000]"
   ]
  },
  {
   "cell_type": "code",
   "execution_count": 172,
   "id": "c78ea621",
   "metadata": {},
   "outputs": [],
   "source": [
    "# Clasificación mediante SVM modificando a Kernel Lineal\n",
    "clf = svm.SVC(kernel='linear')\n",
    "clf.fit(X , y)\n",
    "# Predicciones\n",
    "y_pred = clf.predict(X)"
   ]
  },
  {
   "cell_type": "code",
   "execution_count": 173,
   "id": "21855799",
   "metadata": {},
   "outputs": [
    {
     "data": {
      "text/plain": [
       "array([2150, 1000,  750, 1855, 2100, 1950,  915, 1725, 1010, 1615,  955,\n",
       "       1455, 1435, 1730, 2045, 1115, 1550, 1505, 2200, 2210, 1540, 1700,\n",
       "       1815, 1815, 1215, 1455, 1530, 2030,  950,  915, 1440, 1730, 1730,\n",
       "       1850, 2115, 1235, 2100,  940,  655, 1125, 2225, 1835, 1845,  950,\n",
       "       1850,  915, 1405, 1020, 1945, 1655,    5, 1510, 1825,   30, 1600,\n",
       "       1720,   50, 1320,   25, 1810, 2010,   50, 1750,   25, 2255, 1845,\n",
       "       2255, 2010, 1510, 1145, 1355, 1750, 1325, 1610,   50, 1645,   30,\n",
       "       1850, 1320,    5, 1610, 2225, 1720, 1905, 2005, 1320, 1305, 1845,\n",
       "       2225, 1640, 1235,   55, 2245,   55, 1725, 2225, 1825, 2255, 2015,\n",
       "        745, 1620, 1630, 1325, 2155, 2245, 1510, 1345, 1510, 1720,   50,\n",
       "       2335, 2000, 1430, 2025, 2030, 1945, 1720, 1320, 2225, 2350, 2335,\n",
       "         50, 1850,   35, 2350, 1510, 1915, 1410, 1655, 2255, 2105, 1615,\n",
       "       1055, 2235, 1640, 1755, 2355, 2115, 1125, 2255,  930, 1315, 1855,\n",
       "       1425,   25, 2000, 1520, 2255, 1835,   45,  915, 1530, 2015, 1950,\n",
       "       1750, 1320, 2245, 2255, 1645, 2115, 1900, 1120,   50, 1620, 2350,\n",
       "       1840,   45, 1750, 2000, 1905, 1645,  955, 2315, 2255, 1145, 1400,\n",
       "       1455, 1440, 2255, 1745, 1035, 2015, 1845, 2255, 1530, 1625, 2255,\n",
       "       1215, 1920,    5, 1510,   45, 1905, 2235, 1330, 1530, 1045, 2010,\n",
       "       2105, 2240, 1350, 1400, 2115, 2255, 1645, 1815, 1320, 2140, 1045,\n",
       "       2255, 1815, 1555, 2355, 2045, 1520, 1855, 1035, 1250, 1630, 2225,\n",
       "       1925, 1110, 1600, 2040, 2350,   35, 1505, 2330, 1930, 1540, 2255,\n",
       "       1330, 1955, 2255, 1615, 1510, 2040, 1835, 1615, 2025, 1235, 2040,\n",
       "         35, 1520, 1240, 1745, 1045, 1845, 1130, 2000, 2205, 2255, 2115,\n",
       "       1435, 1835, 1640, 2350, 2225, 1835, 2030, 1505, 2350, 1115, 2040,\n",
       "       1105, 1530, 1615, 1845, 2245, 2115, 1915, 1950, 1545, 1825, 1815,\n",
       "       1730, 2135,  915, 1315, 1825, 1930, 2035, 2105, 1345, 2255, 1725,\n",
       "       1220, 1120, 1550, 1830, 1005, 1515, 1640, 2115, 1930, 1550, 1210,\n",
       "       1405, 1550, 1645, 2255, 1240, 2255, 1530, 1930, 1340, 1110, 1825,\n",
       "       1615, 1330, 2255, 1920, 1220,  930, 2040, 1045, 2255, 1615, 1520,\n",
       "       1830, 2205, 2225, 1615, 2105, 1300, 2255, 1845, 1115, 1440, 1745,\n",
       "       1915, 1625, 1925, 1605, 1820, 1325, 1205, 2115, 1530, 1440, 1230,\n",
       "       1915, 1135, 1925, 1630, 1855, 2045, 1015, 1550, 1750, 2000, 1000,\n",
       "       1315, 2245, 1655, 2245, 1040, 1405, 2040, 1145, 2045, 1450,  720,\n",
       "       1230, 2100, 1530, 1835,  810, 1920,  820, 1615, 2225, 1640, 1050,\n",
       "       2210, 1000, 1915, 1130, 2115, 1730, 1225, 2225, 1815, 1410,  830,\n",
       "       1830, 2255, 1235,  925, 1620, 2015, 1545, 2205, 1930, 1135, 1535,\n",
       "       1125, 1855, 1455, 2225, 1600, 1455, 1320,  750, 1730, 1330, 1115,\n",
       "       1810,  725,  955, 2135,  955, 1920, 2005, 1540, 1720, 1230, 1320,\n",
       "       2135, 1530, 1730, 1335, 1905, 2155, 1950, 1045, 1800,  755, 1550,\n",
       "       1205, 1855, 2155, 1010, 1440, 2100, 2225, 1750, 2110, 1555, 1705,\n",
       "       1230, 1400, 1825,  830, 1855, 2015,  805, 1135, 2255, 2025,  915,\n",
       "       2225,  830, 2015, 1120, 1700, 1945, 1630, 1400, 1505, 1920, 2245,\n",
       "       1440,  915, 2135, 1110, 1720, 1045, 2240, 1405, 1820, 1700, 1140,\n",
       "       1630, 1400,  915, 2210, 1655, 1735, 1320, 2335, 1030, 2150, 2200,\n",
       "       1645, 1140, 2125, 1855,  920, 1330, 1700, 2210, 2240,  730, 1040,\n",
       "       1510, 2255, 2115, 1600, 1810, 2030, 1105, 1330,    5, 2035, 2250,\n",
       "       1025, 1340, 1620, 1815, 2235, 2335,  815, 1825, 1530, 1935, 2255,\n",
       "       1355, 1105,  805, 1550, 1845, 1425, 1000, 2040, 1825, 1200, 1615,\n",
       "       2325, 1700, 2040, 1320, 2350, 1030,  925, 2255, 1105, 1655, 1410,\n",
       "       1945, 2250, 1725, 2200,  915, 1845, 2250, 1445,  905, 1205, 1850,\n",
       "       1600, 2150, 2045,  925, 2250, 1905, 1230, 1750, 2235, 1355,  815,\n",
       "        940, 1700, 1030, 2115, 1630,  925, 2320, 1730, 1415, 1630, 2030,\n",
       "       1630,  840, 1205, 1845, 1410, 2255, 1010, 1050, 2100, 1625, 1750,\n",
       "       1620,  955, 2335, 1720, 1135, 1350, 2025, 2305, 2335,  955, 2110,\n",
       "       1645, 1330, 1620, 1150, 1435, 2335, 1615, 1110, 1350, 1855,  825,\n",
       "       2240, 1815, 1615, 2220, 1105, 2040, 1835, 1520, 2145, 2000,  855,\n",
       "       1230,   25, 1105,  955, 1825, 2335, 2030, 1520,   15, 1300, 2255,\n",
       "        950, 1730, 1320, 2000, 2335, 1540, 2110, 1825, 1455, 2255,  955,\n",
       "       1645, 2335, 1305, 1505,  855, 1045, 1720, 2110, 1020, 2140, 2300,\n",
       "        830, 2000, 1550, 1300, 2335, 1305, 1025, 2350, 1555, 1240, 1020,\n",
       "       2040, 1135, 1850, 2210, 1055, 1110, 1845, 2255, 2000,  725,  910,\n",
       "       1750, 1405, 2040, 1220, 1655, 2300,  955, 2010, 1410, 1410, 2145,\n",
       "       1325,  855, 1145, 2255, 1615, 1845, 1655, 1435,  950, 1500, 1235,\n",
       "       2010,   30, 1155, 2225, 1855, 1550,  800, 1745, 1530,  830, 1050,\n",
       "       1340, 1945, 2030, 1125, 1725, 1235, 1140, 1010, 1625, 1315, 1440,\n",
       "       1505, 2115, 2205, 1245, 1750, 1055, 1825, 1630, 2235, 1835, 1510,\n",
       "       1505,  855, 1410, 2245, 1730, 1300, 2200, 1730, 2000, 1550, 1240,\n",
       "       2205, 1035, 1625, 1855, 1325, 2105, 2255,  910, 1630, 2000, 2220,\n",
       "        955, 1320, 2140, 1110, 2040, 1625, 2255, 1400, 2115, 1505, 1250,\n",
       "       1655, 1825, 2245, 1855, 1315, 1035, 1645, 2135,  945, 1855, 1530,\n",
       "       2210, 1950, 1715, 1825, 1215,  915, 1915, 2045, 1320, 1835, 2025,\n",
       "       1815,   30, 1615, 2115, 2210, 1845, 1400, 2000, 1700, 1845,  755,\n",
       "       2325, 2115, 1355, 2300, 1920, 1540, 2105, 1410, 1655, 2155,  830,\n",
       "       1400, 1815, 1405, 1615, 1110, 1325, 1855, 2100, 1455, 1800,  855,\n",
       "       2155, 1645, 1340, 1950, 1925, 2255, 1600, 2255, 1300, 1920, 2020,\n",
       "       2225, 1750, 1350, 1550, 2110, 1250, 1745, 2020, 2045, 1405, 1950,\n",
       "       1405, 2045, 1750, 1435, 1800, 1825, 2040, 1000, 1550, 1225, 1910,\n",
       "       2105, 1330,  820, 1925, 1610, 1550, 1715, 1045, 2205, 1350, 1830,\n",
       "       2045, 1355, 1710, 1535, 2255, 2245, 2045, 1835, 1955, 2040, 1645,\n",
       "       2320,  955, 1615, 1835, 1255, 1100, 1625, 2255, 2325, 1730, 1310,\n",
       "       1915, 2045, 1455, 2115, 1810, 1510, 1100,  810,  840, 1750, 1445,\n",
       "       1135, 2020,  750, 1800, 1535, 2220, 1825, 2100, 1655, 1855, 1450,\n",
       "       1415, 1530, 1825, 1625, 1355, 2255, 1055, 2245, 1730, 1300, 1925,\n",
       "       2210, 2025, 1615, 1330, 1435, 2220,  955, 2115, 1545, 2115, 1735,\n",
       "       1315, 2005, 1320,  950, 1440, 1000, 1250, 2005, 2255, 1645, 1905,\n",
       "       1405, 2135, 1615, 1500, 2100, 1105, 1305, 2000, 2135, 1645, 1815,\n",
       "       1235, 2000, 2255, 1320, 1605, 2155, 2045, 1745, 1110, 1400, 1130,\n",
       "       1645, 2135, 1800, 1105, 1955, 1340, 1750, 1435, 2225, 1205, 1035,\n",
       "       2115, 1315, 1530, 1830, 1950, 1000, 1225, 2150, 1655,  915, 2255,\n",
       "       1520, 1845, 1220, 2115, 1550, 1745, 1420, 2320, 1905, 1150, 2245,\n",
       "         15, 2000, 1710, 1600, 1405, 1605, 1810, 1855, 1125,  825])"
      ]
     },
     "execution_count": 173,
     "metadata": {},
     "output_type": "execute_result"
    }
   ],
   "source": [
    "y_pred"
   ]
  },
  {
   "cell_type": "code",
   "execution_count": 174,
   "id": "19802182",
   "metadata": {},
   "outputs": [
    {
     "name": "stdout",
     "output_type": "stream",
     "text": [
      "0.462\n"
     ]
    }
   ],
   "source": [
    "# Accuracy de modelo SVM\n",
    "trained_accuracy_svm = metrics.accuracy_score(y , y_pred)\n",
    "print(trained_accuracy_svm)"
   ]
  },
  {
   "cell_type": "code",
   "execution_count": 175,
   "id": "03ff1bc2",
   "metadata": {},
   "outputs": [
    {
     "name": "stdout",
     "output_type": "stream",
     "text": [
      "Accuracy sin modificación de parámetros\n",
      "Accuracy Decision Tree:  0.9028156630526322\n",
      "Accuracy KNN:  0.5089909481411645\n",
      "Accuracy SVM:  0.065\n"
     ]
    }
   ],
   "source": [
    "print(\"Accuracy sin modificación de parámetros\")\n",
    "print(\"Accuracy Decision Tree: \" , accuracy_decision_tree)\n",
    "print(\"Accuracy KNN: \" , accuracy_knn)\n",
    "print(\"Accuracy SVM: \" , accuracy_svm)"
   ]
  },
  {
   "cell_type": "code",
   "execution_count": 176,
   "id": "cd1ad43f",
   "metadata": {},
   "outputs": [
    {
     "name": "stdout",
     "output_type": "stream",
     "text": [
      "Accuracy con parámetros modificados\n",
      "Decision tree con parámetros:  0.09276169088087458\n",
      "KNN con parámetros:  0.4555563794683291\n",
      "SVM con parámetros:  0.462\n"
     ]
    }
   ],
   "source": [
    "print(\"Accuracy con parámetros modificados\")\n",
    "print(\"Decision tree con parámetros: \" ,trained_accuracy_decision_tree)\n",
    "print(\"KNN con parámetros: \" , trained_accuracy_knn)\n",
    "print(\"SVM con parámetros: \" , trained_accuracy_svm)"
   ]
  },
  {
   "cell_type": "markdown",
   "id": "84cfc7c0",
   "metadata": {},
   "source": [
    "### **- Exercici 4**\n",
    "\n",
    "Compara el seu rendiment utilitzant l’aproximació traint/test o cross-validation."
   ]
  },
  {
   "cell_type": "markdown",
   "id": "9d2b1c7f",
   "metadata": {},
   "source": [
    "**Decision Tree Model**"
   ]
  },
  {
   "cell_type": "code",
   "execution_count": 177,
   "id": "3fdec3f1",
   "metadata": {},
   "outputs": [],
   "source": [
    "feature_cols = ['CRSDepTime', 'DepTime', 'ArrTime',]\n",
    "X = wn[feature_cols] # Características\n",
    "y = wn.CRSArrTime # Eje objetivo"
   ]
  },
  {
   "cell_type": "code",
   "execution_count": 178,
   "id": "efb82e9d",
   "metadata": {},
   "outputs": [],
   "source": [
    "X_train, X_test, y_train, y_test = train_test_split(X, y, test_size=0.3, random_state=42)"
   ]
  },
  {
   "cell_type": "code",
   "execution_count": 179,
   "id": "adab66c8",
   "metadata": {},
   "outputs": [],
   "source": [
    "# creación del objeto\n",
    "clf = DecisionTreeClassifier()\n",
    "# Train del Decision Tree Classifer\n",
    "clf = clf.fit(X_train,y_train)\n",
    "# predicciónes de test dataset\n",
    "y_pred = clf.predict(X_test)"
   ]
  },
  {
   "cell_type": "code",
   "execution_count": 180,
   "id": "f3144af4",
   "metadata": {},
   "outputs": [],
   "source": [
    "# Accuracy de modelo Decision Tree\n",
    "tt_accuracy_decision_tree = metrics.accuracy_score(y_test, y_pred)"
   ]
  },
  {
   "cell_type": "code",
   "execution_count": 181,
   "id": "410fb6cc",
   "metadata": {},
   "outputs": [],
   "source": [
    "# Matriz de confianza\n",
    "tt_matrix_decision_tree = metrics.confusion_matrix(y_test, y_pred)"
   ]
  },
  {
   "cell_type": "code",
   "execution_count": 182,
   "id": "89a9e890",
   "metadata": {},
   "outputs": [
    {
     "name": "stdout",
     "output_type": "stream",
     "text": [
      "[[112  25   7 ...  27  17  50]\n",
      " [ 19  74   6 ...   3   1  24]\n",
      " [ 13   5  50 ...   7   4   5]\n",
      " ...\n",
      " [ 14   2   7 ...  74  26  24]\n",
      " [ 19  12   7 ...  27 121  40]\n",
      " [ 41   8  10 ...  33  41 201]]\n"
     ]
    }
   ],
   "source": [
    "# Separación de la matriz de confianza\n",
    "tt_confusion_decision_tree = metrics.confusion_matrix(y_test, y_pred)\n",
    "print(tt_confusion_decision_tree)\n",
    "#[fila, columna]\n",
    "TP_DT = confusion_decision_tree[1, 1]\n",
    "TN_DT = confusion_decision_tree[0, 0]\n",
    "FP_DT = confusion_decision_tree[0, 1]\n",
    "FN_DT = confusion_decision_tree[1, 0]"
   ]
  },
  {
   "cell_type": "code",
   "execution_count": 183,
   "id": "4b468473",
   "metadata": {},
   "outputs": [
    {
     "name": "stdout",
     "output_type": "stream",
     "text": [
      "0.9955099422706863\n",
      "0.25192221113867286\n"
     ]
    }
   ],
   "source": [
    "#classification accuracy\n",
    "tt_classification_accuracy_decision_tree = (TP_DT + TN_DT) / float(TP_DT + TN_DT + FP_DT + FN_DT)\n",
    "print(tt_classification_accuracy_decision_tree)\n",
    "print(metrics.accuracy_score(y_test, y_pred))"
   ]
  },
  {
   "cell_type": "code",
   "execution_count": 184,
   "id": "3a74d035",
   "metadata": {},
   "outputs": [
    {
     "name": "stdout",
     "output_type": "stream",
     "text": [
      "0.004490057729313663\n",
      "0.7480777888613271\n"
     ]
    }
   ],
   "source": [
    "#classification error\n",
    "tt_classification_error_decision_tree = (FP_DT + FN_DT) / float(TP_DT + TN_DT + FP_DT + FN_DT)\n",
    "print(tt_classification_error_decision_tree)\n",
    "print(1 - metrics.accuracy_score(y_test, y_pred))"
   ]
  },
  {
   "cell_type": "code",
   "execution_count": 185,
   "id": "8165edbc",
   "metadata": {},
   "outputs": [
    {
     "name": "stdout",
     "output_type": "stream",
     "text": [
      "0.988394584139265\n",
      "0.25192221113867286\n"
     ]
    }
   ],
   "source": [
    "# sensibilidad\n",
    "tt_sensitivity_decision_tree = (TP_DT) / float(FN_DT + TP_DT)\n",
    "print(tt_sensitivity_decision_tree)\n",
    "print(metrics.recall_score(y_test, y_pred, average='micro'))"
   ]
  },
  {
   "cell_type": "code",
   "execution_count": 186,
   "id": "4527537f",
   "metadata": {},
   "outputs": [
    {
     "name": "stdout",
     "output_type": "stream",
     "text": [
      "0.9990403071017274\n"
     ]
    }
   ],
   "source": [
    "#especifidad\n",
    "tt_specificity_decision_tree = (TN_DT) / (TN_DT + FP_DT)\n",
    "print(specificity_decision_tree)"
   ]
  },
  {
   "cell_type": "code",
   "execution_count": 187,
   "id": "8d75dd5b",
   "metadata": {},
   "outputs": [
    {
     "name": "stdout",
     "output_type": "stream",
     "text": [
      "0.0009596928982725527\n",
      "0.0009596928982725794\n"
     ]
    }
   ],
   "source": [
    "# ratio de falsos positivos\n",
    "tt_false_positive_rate_decision_tree = (FP_DT) / float(TN_DT + FP_DT)\n",
    "print(tt_false_positive_rate_decision_tree)\n",
    "print(1 - specificity_decision_tree)"
   ]
  },
  {
   "cell_type": "code",
   "execution_count": 188,
   "id": "60970fa3",
   "metadata": {},
   "outputs": [
    {
     "name": "stdout",
     "output_type": "stream",
     "text": [
      "0.998046875\n",
      "0.25192221113867286\n"
     ]
    }
   ],
   "source": [
    "# precisión \n",
    "tt_precision_decision_tree = (TP_DT) / float(TP_DT + FP_DT)\n",
    "print(tt_precision_decision_tree)\n",
    "print(metrics.precision_score(y_test, y_pred, average='micro'))"
   ]
  },
  {
   "cell_type": "markdown",
   "id": "58411959",
   "metadata": {},
   "source": [
    "**KNN**"
   ]
  },
  {
   "cell_type": "code",
   "execution_count": 189,
   "id": "9af1e9c1",
   "metadata": {},
   "outputs": [],
   "source": [
    "feature_cols = ['CRSDepTime', 'DepTime', 'ArrTime',]\n",
    "X = wn[feature_cols] # Características\n",
    "y = wn.CRSArrTime # Eje objetivo"
   ]
  },
  {
   "cell_type": "code",
   "execution_count": 190,
   "id": "c1cba597",
   "metadata": {},
   "outputs": [],
   "source": [
    "X_train, X_test, y_train, y_test = train_test_split(X, y, test_size=0.3, random_state=42)"
   ]
  },
  {
   "cell_type": "code",
   "execution_count": 191,
   "id": "348e5894",
   "metadata": {},
   "outputs": [],
   "source": [
    "classifier = KNeighborsClassifier()\n",
    "classifier.fit(X_train, y_train)\n",
    "y_pred = classifier.predict(X_test)"
   ]
  },
  {
   "cell_type": "code",
   "execution_count": 192,
   "id": "bc5b4791",
   "metadata": {},
   "outputs": [],
   "source": [
    "# Accuracy de modelo KNN\n",
    "tt_accuracy_knn = metrics.accuracy_score(y_test, y_pred)"
   ]
  },
  {
   "cell_type": "code",
   "execution_count": 193,
   "id": "e4dbea17",
   "metadata": {},
   "outputs": [
    {
     "name": "stdout",
     "output_type": "stream",
     "text": [
      "[[170  10   7 ...  10  17  50]\n",
      " [ 40  62   5 ...   2   3  19]\n",
      " [ 21  10  50 ...   1   5   9]\n",
      " ...\n",
      " [ 37   3   5 ...  66  25  22]\n",
      " [ 49   6   7 ...  29  95  40]\n",
      " [ 88   9  13 ...  29  22 190]]\n"
     ]
    }
   ],
   "source": [
    "# Separación de la matriz de confianza\n",
    "tt_confusion_knn = metrics.confusion_matrix(y_test, y_pred)\n",
    "print(tt_confusion_knn)\n",
    "#[fila, columna]\n",
    "TP_KNN = confusion_knn[1, 1]\n",
    "TN_KNN = confusion_knn[0, 0]\n",
    "FP_KNN = confusion_knn[0, 1]\n",
    "FN_KNN = confusion_knn[1, 0]"
   ]
  },
  {
   "cell_type": "code",
   "execution_count": 194,
   "id": "889c94d6",
   "metadata": {},
   "outputs": [
    {
     "name": "stdout",
     "output_type": "stream",
     "text": [
      "0.2909402282818831\n",
      "0.2909402282818831\n"
     ]
    }
   ],
   "source": [
    "#classification accuracy\n",
    "tt_classification_accuracy_knn =(TP_KNN + TN_KNN) / float(TP_KNN + TN_KNN + FP_KNN + FN_KNN)\n",
    "print(metrics.accuracy_score(y_test, y_pred))\n",
    "print(metrics.accuracy_score(y_test, y_pred))"
   ]
  },
  {
   "cell_type": "code",
   "execution_count": 195,
   "id": "3823b7f7",
   "metadata": {},
   "outputs": [
    {
     "name": "stdout",
     "output_type": "stream",
     "text": [
      "0.08727569331158239\n",
      "0.7090597717181168\n"
     ]
    }
   ],
   "source": [
    "# Classification error\n",
    "tt_classification_error_knn = (FP_KNN + FN_KNN) / float(TP_KNN + TN_KNN + FP_KNN + FN_KNN)\n",
    "print(tt_classification_error_knn)\n",
    "print(1 - metrics.accuracy_score(y_test, y_pred))"
   ]
  },
  {
   "cell_type": "code",
   "execution_count": 196,
   "id": "45cfbb14",
   "metadata": {},
   "outputs": [
    {
     "name": "stdout",
     "output_type": "stream",
     "text": [
      "0.8120300751879699\n",
      "0.2909402282818831\n"
     ]
    }
   ],
   "source": [
    "# sensibilidad\n",
    "tt_trained_sensitivity_knn = (TP_KNN) / float(FN_KNN + TP_KNN)\n",
    "print(tt_trained_sensitivity_knn)\n",
    "print(metrics.recall_score(y_test, y_pred, average='micro'))"
   ]
  },
  {
   "cell_type": "code",
   "execution_count": 197,
   "id": "c8df5b21",
   "metadata": {},
   "outputs": [
    {
     "name": "stdout",
     "output_type": "stream",
     "text": [
      "0.9613059250302297\n"
     ]
    }
   ],
   "source": [
    "# Especificidad\n",
    "tt_trained_specificity_knn = TN_KNN / (TN_KNN + FP_KNN)\n",
    "print(tt_trained_specificity_knn)"
   ]
  },
  {
   "cell_type": "code",
   "execution_count": 198,
   "id": "485fe84a",
   "metadata": {},
   "outputs": [
    {
     "name": "stdout",
     "output_type": "stream",
     "text": [
      "0.03869407496977025\n",
      "0.03869407496977029\n"
     ]
    }
   ],
   "source": [
    "# Ratio falsos positivos\n",
    "tt_trained_false_positive_rate_knn = (FP_KNN) / float(TN_KNN + FP_KNN)\n",
    "print(tt_trained_false_positive_rate_knn)\n",
    "print(1 - tt_trained_specificity_knn)"
   ]
  },
  {
   "cell_type": "code",
   "execution_count": 199,
   "id": "11891fa7",
   "metadata": {},
   "outputs": [
    {
     "name": "stdout",
     "output_type": "stream",
     "text": [
      "0.9101123595505618\n",
      "0.2909402282818831\n"
     ]
    }
   ],
   "source": [
    "# Precisión\n",
    "tt_trained_precision_knn = (TP_KNN) / float(TP_KNN + FP_KNN)\n",
    "print(tt_trained_precision_knn)\n",
    "print(metrics.precision_score(y_test, y_pred, average='micro'))"
   ]
  },
  {
   "cell_type": "markdown",
   "id": "53889c7c",
   "metadata": {},
   "source": [
    "**Support vector Machine**"
   ]
  },
  {
   "cell_type": "code",
   "execution_count": 200,
   "id": "f559c6d6",
   "metadata": {},
   "outputs": [],
   "source": [
    "feature_cols = ['CRSDepTime', 'DepTime', 'ArrTime',]\n",
    "X = wn[feature_cols] # Características\n",
    "y = wn.CRSArrTime # Eje objetivo"
   ]
  },
  {
   "cell_type": "code",
   "execution_count": 201,
   "id": "c0124352",
   "metadata": {},
   "outputs": [],
   "source": [
    "X = X[ :1000]\n",
    "y = y[ :1000]"
   ]
  },
  {
   "cell_type": "code",
   "execution_count": 202,
   "id": "9d07a7dd",
   "metadata": {},
   "outputs": [],
   "source": [
    "X_train, X_test, y_train, y_test = train_test_split(X, y, test_size=0.3, random_state=42)"
   ]
  },
  {
   "cell_type": "code",
   "execution_count": 203,
   "id": "40a546a6",
   "metadata": {},
   "outputs": [],
   "source": [
    "#Create a svm Classifier\n",
    "clf = svm.SVC(kernel='linear') \n",
    "#Train the model using the training sets\n",
    "clf.fit(X_train, y_train)\n",
    "#Predict the response for test dataset\n",
    "y_pred = clf.predict(X_test)"
   ]
  },
  {
   "cell_type": "code",
   "execution_count": 204,
   "id": "0a69b74e",
   "metadata": {},
   "outputs": [],
   "source": [
    "# Accuracy de modelo SVM\n",
    "c = metrics.accuracy_score(y_test, y_pred)"
   ]
  },
  {
   "cell_type": "code",
   "execution_count": 205,
   "id": "4ba71bda",
   "metadata": {},
   "outputs": [
    {
     "name": "stdout",
     "output_type": "stream",
     "text": [
      "[[0 0 1 ... 0 0 1]\n",
      " [0 0 1 ... 0 0 0]\n",
      " [0 0 0 ... 0 0 0]\n",
      " ...\n",
      " [0 0 0 ... 0 0 0]\n",
      " [0 0 0 ... 0 0 0]\n",
      " [0 0 1 ... 0 0 0]]\n"
     ]
    }
   ],
   "source": [
    "# Separación de la matriz de confianza\n",
    "tt_confusion_svm = metrics.confusion_matrix(y_test, y_pred)\n",
    "print(tt_confusion_svm)\n",
    "#[fila, columna]\n",
    "TP_SVM = confusion_svm[1, 1]\n",
    "TN_SVM = confusion_svm[0, 0]\n",
    "FP_SVM = confusion_svm[0, 1]\n",
    "FN_SVM = confusion_svm[1, 0]"
   ]
  },
  {
   "cell_type": "code",
   "execution_count": 206,
   "id": "4c31eb38",
   "metadata": {},
   "outputs": [
    {
     "name": "stdout",
     "output_type": "stream",
     "text": [
      "nan\n",
      "0.12\n"
     ]
    },
    {
     "name": "stderr",
     "output_type": "stream",
     "text": [
      "/var/folders/s5/_b24t8m574q3h2svhkm3k6500000gn/T/ipykernel_804/2008478641.py:2: RuntimeWarning: invalid value encountered in true_divide\n",
      "  tt_classification_accuracy_svm = (TP_SVM + TN_SVM) / float(TP_SVM + TN_SVM + FP_SVM + FN_SVM)\n"
     ]
    }
   ],
   "source": [
    "#classification accuracy\n",
    "tt_classification_accuracy_svm = (TP_SVM + TN_SVM) / float(TP_SVM + TN_SVM + FP_SVM + FN_SVM)\n",
    "print(tt_classification_accuracy_svm)\n",
    "print(metrics.accuracy_score(y_test, y_pred))"
   ]
  },
  {
   "cell_type": "code",
   "execution_count": 207,
   "id": "66428621",
   "metadata": {},
   "outputs": [
    {
     "name": "stdout",
     "output_type": "stream",
     "text": [
      "nan\n",
      "0.88\n"
     ]
    },
    {
     "name": "stderr",
     "output_type": "stream",
     "text": [
      "/var/folders/s5/_b24t8m574q3h2svhkm3k6500000gn/T/ipykernel_804/385855457.py:2: RuntimeWarning: invalid value encountered in true_divide\n",
      "  tt_classification_error_svm = (FP_SVM + FN_SVM) / float(TP_SVM + TN_SVM + FP_SVM + FN_SVM)\n"
     ]
    }
   ],
   "source": [
    "# classification error\n",
    "tt_classification_error_svm = (FP_SVM + FN_SVM) / float(TP_SVM + TN_SVM + FP_SVM + FN_SVM)\n",
    "print(tt_classification_error_svm)\n",
    "print(1 - metrics.accuracy_score(y_test, y_pred))"
   ]
  },
  {
   "cell_type": "code",
   "execution_count": 208,
   "id": "a7ad9db1",
   "metadata": {},
   "outputs": [
    {
     "name": "stdout",
     "output_type": "stream",
     "text": [
      "nan\n",
      "0.12\n"
     ]
    },
    {
     "name": "stderr",
     "output_type": "stream",
     "text": [
      "/var/folders/s5/_b24t8m574q3h2svhkm3k6500000gn/T/ipykernel_804/1600740172.py:2: RuntimeWarning: invalid value encountered in true_divide\n",
      "  tt_sensitivity_svm = (TP_SVM) / float(FN_SVM + TP_SVM)\n"
     ]
    }
   ],
   "source": [
    "# sensibilidad\n",
    "tt_sensitivity_svm = (TP_SVM) / float(FN_SVM + TP_SVM)\n",
    "print(tt_sensitivity_svm)\n",
    "print(metrics.recall_score(y_test, y_pred, average='micro'))"
   ]
  },
  {
   "cell_type": "code",
   "execution_count": 209,
   "id": "2d37b756",
   "metadata": {},
   "outputs": [
    {
     "name": "stdout",
     "output_type": "stream",
     "text": [
      "nan\n"
     ]
    },
    {
     "name": "stderr",
     "output_type": "stream",
     "text": [
      "/var/folders/s5/_b24t8m574q3h2svhkm3k6500000gn/T/ipykernel_804/4151203144.py:2: RuntimeWarning: invalid value encountered in long_scalars\n",
      "  tt_specificity_svm = (TN_SVM) / (TN_SVM + FP_SVM)\n"
     ]
    }
   ],
   "source": [
    "# Especificidad\n",
    "tt_specificity_svm = (TN_SVM) / (TN_SVM + FP_SVM)\n",
    "print(tt_specificity_svm)"
   ]
  },
  {
   "cell_type": "code",
   "execution_count": 210,
   "id": "01ab81fa",
   "metadata": {},
   "outputs": [
    {
     "name": "stdout",
     "output_type": "stream",
     "text": [
      "nan\n",
      "nan\n"
     ]
    },
    {
     "name": "stderr",
     "output_type": "stream",
     "text": [
      "/var/folders/s5/_b24t8m574q3h2svhkm3k6500000gn/T/ipykernel_804/1009052086.py:2: RuntimeWarning: invalid value encountered in true_divide\n",
      "  tt_false_positive_rate_svm = (FP_SVM) / float(TN_SVM + FP_SVM)\n"
     ]
    }
   ],
   "source": [
    "# Ratio falsos positivos\n",
    "tt_false_positive_rate_svm = (FP_SVM) / float(TN_SVM + FP_SVM)\n",
    "print(tt_false_positive_rate_svm)\n",
    "print(1 - tt_specificity_svm)"
   ]
  },
  {
   "cell_type": "code",
   "execution_count": 211,
   "id": "dae05549",
   "metadata": {},
   "outputs": [
    {
     "name": "stdout",
     "output_type": "stream",
     "text": [
      "nan\n",
      "0.12\n"
     ]
    },
    {
     "name": "stderr",
     "output_type": "stream",
     "text": [
      "/var/folders/s5/_b24t8m574q3h2svhkm3k6500000gn/T/ipykernel_804/1451187741.py:2: RuntimeWarning: invalid value encountered in true_divide\n",
      "  tt_precision_svm = (TP_SVM) / float(TP_SVM + FP_SVM)\n"
     ]
    }
   ],
   "source": [
    "# precisión\n",
    "tt_precision_svm = (TP_SVM) / float(TP_SVM + FP_SVM)\n",
    "print(tt_precision_svm)\n",
    "print(metrics.precision_score(y_test, y_pred, average='micro'))"
   ]
  },
  {
   "cell_type": "code",
   "execution_count": 212,
   "id": "41f9f90a",
   "metadata": {},
   "outputs": [
    {
     "name": "stdout",
     "output_type": "stream",
     "text": [
      "Accuracy de los tres modelos Decision Tree\n",
      "Accuracy no entrenada:  0.9028156630526322\n",
      "Accuracy entrenada:  0.09276169088087458\n",
      "Train Test accuracy:  0.25192221113867286\n"
     ]
    }
   ],
   "source": [
    "print(\"Accuracy de los tres modelos Decision Tree\")\n",
    "print(\"Accuracy no entrenada: \" , accuracy_decision_tree)\n",
    "print(\"Accuracy entrenada: \" , trained_accuracy_decision_tree)\n",
    "print(\"Train Test accuracy: \" , tt_accuracy_decision_tree)"
   ]
  },
  {
   "cell_type": "code",
   "execution_count": 213,
   "id": "bf45141b",
   "metadata": {},
   "outputs": [
    {
     "name": "stdout",
     "output_type": "stream",
     "text": [
      "Accuracy de los tres modeos KNN\n",
      "Decision tree con parámetros:  0.4555563794683291\n",
      "KNN con parámetros:  0.4555563794683291\n",
      "SVM con parámetros:  0.2909402282818831\n"
     ]
    }
   ],
   "source": [
    "print(\"Accuracy de los tres modeos KNN\")\n",
    "print(\"Decision tree con parámetros: \" ,trained_accuracy_knn)\n",
    "print(\"KNN con parámetros: \" , trained_accuracy_knn)\n",
    "print(\"SVM con parámetros: \" , tt_accuracy_knn)"
   ]
  },
  {
   "cell_type": "code",
   "execution_count": 215,
   "id": "f91cb982",
   "metadata": {},
   "outputs": [
    {
     "name": "stdout",
     "output_type": "stream",
     "text": [
      "Accuracy de los tres modeos KNN\n",
      "Accuracy sin parámetros:  nan\n",
      "Accuracy con parámetros  0.462\n",
      "Accuracy con train/test:  nan\n"
     ]
    }
   ],
   "source": [
    "print(\"Accuracy de los tres modeos KNN\")\n",
    "print(\"Accuracy sin parámetros: \" ,classification_accuracy_svm)\n",
    "print(\"Accuracy con parámetros \" , trained_accuracy_svm)\n",
    "print(\"Accuracy con train/test: \" , tt_classification_accuracy_svm)"
   ]
  },
  {
   "cell_type": "markdown",
   "id": "be12d2d8",
   "metadata": {},
   "source": [
    "Nivell 2\n",
    "\n",
    "- Exercici 5\n",
    "Realitza algun procés d’enginyeria de variables per millorar-ne la predicció"
   ]
  },
  {
   "cell_type": "markdown",
   "id": "9b25d746",
   "metadata": {},
   "source": [
    "Nivell 3\n",
    "\n",
    "- Exercici 6\n",
    "No utilitzis la variable DepDelay a l’hora de fer prediccions"
   ]
  }
 ],
 "metadata": {
  "kernelspec": {
   "display_name": "Python 3 (ipykernel)",
   "language": "python",
   "name": "python3"
  },
  "language_info": {
   "codemirror_mode": {
    "name": "ipython",
    "version": 3
   },
   "file_extension": ".py",
   "mimetype": "text/x-python",
   "name": "python",
   "nbconvert_exporter": "python",
   "pygments_lexer": "ipython3",
   "version": "3.9.7"
  },
  "latex_envs": {
   "LaTeX_envs_menu_present": true,
   "autoclose": false,
   "autocomplete": true,
   "bibliofile": "biblio.bib",
   "cite_by": "apalike",
   "current_citInitial": 1,
   "eqLabelWithNumbers": true,
   "eqNumInitial": 1,
   "hotkeys": {
    "equation": "Ctrl-E",
    "itemize": "Ctrl-I"
   },
   "labels_anchors": false,
   "latex_user_defs": false,
   "report_style_numbering": false,
   "user_envs_cfg": false
  }
 },
 "nbformat": 4,
 "nbformat_minor": 5
}
